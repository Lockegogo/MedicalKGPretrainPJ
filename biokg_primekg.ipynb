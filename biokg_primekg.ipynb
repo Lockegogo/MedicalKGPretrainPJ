{
 "cells": [
  {
   "cell_type": "code",
   "execution_count": 128,
   "metadata": {},
   "outputs": [],
   "source": [
    "import numpy as np\n",
    "import pandas as pd"
   ]
  },
  {
   "cell_type": "code",
   "execution_count": 129,
   "metadata": {},
   "outputs": [
    {
     "data": {
      "text/html": [
       "<div>\n",
       "<style scoped>\n",
       "    .dataframe tbody tr th:only-of-type {\n",
       "        vertical-align: middle;\n",
       "    }\n",
       "\n",
       "    .dataframe tbody tr th {\n",
       "        vertical-align: top;\n",
       "    }\n",
       "\n",
       "    .dataframe thead th {\n",
       "        text-align: right;\n",
       "    }\n",
       "</style>\n",
       "<table border=\"1\" class=\"dataframe\">\n",
       "  <thead>\n",
       "    <tr style=\"text-align: right;\">\n",
       "      <th></th>\n",
       "      <th>head</th>\n",
       "      <th>relation</th>\n",
       "      <th>tail</th>\n",
       "    </tr>\n",
       "  </thead>\n",
       "  <tbody>\n",
       "    <tr>\n",
       "      <th>0</th>\n",
       "      <td>P61981</td>\n",
       "      <td>RELATED_GENETIC_DISORDER</td>\n",
       "      <td>MIM:617665</td>\n",
       "    </tr>\n",
       "    <tr>\n",
       "      <th>1</th>\n",
       "      <td>Q14738</td>\n",
       "      <td>RELATED_GENETIC_DISORDER</td>\n",
       "      <td>MIM:616355</td>\n",
       "    </tr>\n",
       "    <tr>\n",
       "      <th>2</th>\n",
       "      <td>P30153</td>\n",
       "      <td>RELATED_GENETIC_DISORDER</td>\n",
       "      <td>MIM:616362</td>\n",
       "    </tr>\n",
       "    <tr>\n",
       "      <th>3</th>\n",
       "      <td>Q00005</td>\n",
       "      <td>RELATED_GENETIC_DISORDER</td>\n",
       "      <td>MIM:604326</td>\n",
       "    </tr>\n",
       "    <tr>\n",
       "      <th>4</th>\n",
       "      <td>Q9H2F3</td>\n",
       "      <td>RELATED_GENETIC_DISORDER</td>\n",
       "      <td>MIM:607765</td>\n",
       "    </tr>\n",
       "  </tbody>\n",
       "</table>\n",
       "</div>"
      ],
      "text/plain": [
       "     head                  relation        tail\n",
       "0  P61981  RELATED_GENETIC_DISORDER  MIM:617665\n",
       "1  Q14738  RELATED_GENETIC_DISORDER  MIM:616355\n",
       "2  P30153  RELATED_GENETIC_DISORDER  MIM:616362\n",
       "3  Q00005  RELATED_GENETIC_DISORDER  MIM:604326\n",
       "4  Q9H2F3  RELATED_GENETIC_DISORDER  MIM:607765"
      ]
     },
     "execution_count": 129,
     "metadata": {},
     "output_type": "execute_result"
    }
   ],
   "source": [
    "# 读取 biokg\n",
    "biokg = pd.read_csv('data/BioKG/kg.csv', index_col=0)\n",
    "\n",
    "# to avoid information leakage\n",
    "dti = pd.read_csv('data/BioKG/dti.csv')\n",
    "biokg = pd.concat([biokg, dti])\n",
    "biokg.drop_duplicates(inplace=True)\n",
    "biokg.head()"
   ]
  },
  {
   "cell_type": "code",
   "execution_count": 130,
   "metadata": {},
   "outputs": [
    {
     "data": {
      "text/html": [
       "<div>\n",
       "<style scoped>\n",
       "    .dataframe tbody tr th:only-of-type {\n",
       "        vertical-align: middle;\n",
       "    }\n",
       "\n",
       "    .dataframe tbody tr th {\n",
       "        vertical-align: top;\n",
       "    }\n",
       "\n",
       "    .dataframe thead th {\n",
       "        text-align: right;\n",
       "    }\n",
       "</style>\n",
       "<table border=\"1\" class=\"dataframe\">\n",
       "  <thead>\n",
       "    <tr style=\"text-align: right;\">\n",
       "      <th></th>\n",
       "      <th>relation</th>\n",
       "      <th>display_relation</th>\n",
       "      <th>x_index</th>\n",
       "      <th>x_id</th>\n",
       "      <th>x_type</th>\n",
       "      <th>x_name</th>\n",
       "      <th>x_source</th>\n",
       "      <th>y_index</th>\n",
       "      <th>y_id</th>\n",
       "      <th>y_type</th>\n",
       "      <th>y_name</th>\n",
       "      <th>y_source</th>\n",
       "    </tr>\n",
       "  </thead>\n",
       "  <tbody>\n",
       "    <tr>\n",
       "      <th>0</th>\n",
       "      <td>protein_protein</td>\n",
       "      <td>ppi</td>\n",
       "      <td>0</td>\n",
       "      <td>9796</td>\n",
       "      <td>gene/protein</td>\n",
       "      <td>PHYHIP</td>\n",
       "      <td>NCBI</td>\n",
       "      <td>8889</td>\n",
       "      <td>56992</td>\n",
       "      <td>gene/protein</td>\n",
       "      <td>KIF15</td>\n",
       "      <td>NCBI</td>\n",
       "    </tr>\n",
       "    <tr>\n",
       "      <th>1</th>\n",
       "      <td>protein_protein</td>\n",
       "      <td>ppi</td>\n",
       "      <td>1</td>\n",
       "      <td>7918</td>\n",
       "      <td>gene/protein</td>\n",
       "      <td>GPANK1</td>\n",
       "      <td>NCBI</td>\n",
       "      <td>2798</td>\n",
       "      <td>9240</td>\n",
       "      <td>gene/protein</td>\n",
       "      <td>PNMA1</td>\n",
       "      <td>NCBI</td>\n",
       "    </tr>\n",
       "    <tr>\n",
       "      <th>2</th>\n",
       "      <td>protein_protein</td>\n",
       "      <td>ppi</td>\n",
       "      <td>2</td>\n",
       "      <td>8233</td>\n",
       "      <td>gene/protein</td>\n",
       "      <td>ZRSR2</td>\n",
       "      <td>NCBI</td>\n",
       "      <td>5646</td>\n",
       "      <td>23548</td>\n",
       "      <td>gene/protein</td>\n",
       "      <td>TTC33</td>\n",
       "      <td>NCBI</td>\n",
       "    </tr>\n",
       "    <tr>\n",
       "      <th>3</th>\n",
       "      <td>protein_protein</td>\n",
       "      <td>ppi</td>\n",
       "      <td>3</td>\n",
       "      <td>4899</td>\n",
       "      <td>gene/protein</td>\n",
       "      <td>NRF1</td>\n",
       "      <td>NCBI</td>\n",
       "      <td>11592</td>\n",
       "      <td>11253</td>\n",
       "      <td>gene/protein</td>\n",
       "      <td>MAN1B1</td>\n",
       "      <td>NCBI</td>\n",
       "    </tr>\n",
       "    <tr>\n",
       "      <th>4</th>\n",
       "      <td>protein_protein</td>\n",
       "      <td>ppi</td>\n",
       "      <td>4</td>\n",
       "      <td>5297</td>\n",
       "      <td>gene/protein</td>\n",
       "      <td>PI4KA</td>\n",
       "      <td>NCBI</td>\n",
       "      <td>2122</td>\n",
       "      <td>8601</td>\n",
       "      <td>gene/protein</td>\n",
       "      <td>RGS20</td>\n",
       "      <td>NCBI</td>\n",
       "    </tr>\n",
       "  </tbody>\n",
       "</table>\n",
       "</div>"
      ],
      "text/plain": [
       "          relation display_relation  x_index  x_id        x_type  x_name  \\\n",
       "0  protein_protein              ppi        0  9796  gene/protein  PHYHIP   \n",
       "1  protein_protein              ppi        1  7918  gene/protein  GPANK1   \n",
       "2  protein_protein              ppi        2  8233  gene/protein   ZRSR2   \n",
       "3  protein_protein              ppi        3  4899  gene/protein    NRF1   \n",
       "4  protein_protein              ppi        4  5297  gene/protein   PI4KA   \n",
       "\n",
       "  x_source  y_index   y_id        y_type  y_name y_source  \n",
       "0     NCBI     8889  56992  gene/protein   KIF15     NCBI  \n",
       "1     NCBI     2798   9240  gene/protein   PNMA1     NCBI  \n",
       "2     NCBI     5646  23548  gene/protein   TTC33     NCBI  \n",
       "3     NCBI    11592  11253  gene/protein  MAN1B1     NCBI  \n",
       "4     NCBI     2122   8601  gene/protein   RGS20     NCBI  "
      ]
     },
     "execution_count": 130,
     "metadata": {},
     "output_type": "execute_result"
    }
   ],
   "source": [
    "# 读取 primekg\n",
    "primekg = pd.read_csv('data/PrimeKG/kg.csv', low_memory=False)\n",
    "primekg.head()"
   ]
  },
  {
   "cell_type": "code",
   "execution_count": 131,
   "metadata": {},
   "outputs": [
    {
     "data": {
      "text/html": [
       "<div>\n",
       "<style scoped>\n",
       "    .dataframe tbody tr th:only-of-type {\n",
       "        vertical-align: middle;\n",
       "    }\n",
       "\n",
       "    .dataframe tbody tr th {\n",
       "        vertical-align: top;\n",
       "    }\n",
       "\n",
       "    .dataframe thead th {\n",
       "        text-align: right;\n",
       "    }\n",
       "</style>\n",
       "<table border=\"1\" class=\"dataframe\">\n",
       "  <thead>\n",
       "    <tr style=\"text-align: right;\">\n",
       "      <th></th>\n",
       "      <th>Unnamed: 0</th>\n",
       "      <th>ontology_id</th>\n",
       "      <th>ontology</th>\n",
       "      <th>mondo_id</th>\n",
       "    </tr>\n",
       "  </thead>\n",
       "  <tbody>\n",
       "    <tr>\n",
       "      <th>0</th>\n",
       "      <td>0</td>\n",
       "      <td>4</td>\n",
       "      <td>DOID</td>\n",
       "      <td>1</td>\n",
       "    </tr>\n",
       "    <tr>\n",
       "      <th>1</th>\n",
       "      <td>1</td>\n",
       "      <td>D004194</td>\n",
       "      <td>MESH</td>\n",
       "      <td>1</td>\n",
       "    </tr>\n",
       "    <tr>\n",
       "      <th>2</th>\n",
       "      <td>2</td>\n",
       "      <td>0000408</td>\n",
       "      <td>EFO</td>\n",
       "      <td>1</td>\n",
       "    </tr>\n",
       "    <tr>\n",
       "      <th>3</th>\n",
       "      <td>3</td>\n",
       "      <td>C0012634</td>\n",
       "      <td>UMLS</td>\n",
       "      <td>1</td>\n",
       "    </tr>\n",
       "    <tr>\n",
       "      <th>4</th>\n",
       "      <td>4</td>\n",
       "      <td>799.9</td>\n",
       "      <td>ICD9</td>\n",
       "      <td>1</td>\n",
       "    </tr>\n",
       "  </tbody>\n",
       "</table>\n",
       "</div>"
      ],
      "text/plain": [
       "   Unnamed: 0 ontology_id ontology  mondo_id\n",
       "0           0           4     DOID         1\n",
       "1           1     D004194     MESH         1\n",
       "2           2     0000408      EFO         1\n",
       "3           3    C0012634     UMLS         1\n",
       "4           4       799.9     ICD9         1"
      ]
     },
     "execution_count": 131,
     "metadata": {},
     "output_type": "execute_result"
    }
   ],
   "source": [
    "# 读取 disease 的映射文件\n",
    "map_data = pd.read_csv('data/PrimeKG/mondo_references.csv')\n",
    "map_data.head()"
   ]
  },
  {
   "cell_type": "code",
   "execution_count": 132,
   "metadata": {},
   "outputs": [
    {
     "data": {
      "text/html": [
       "<div>\n",
       "<style scoped>\n",
       "    .dataframe tbody tr th:only-of-type {\n",
       "        vertical-align: middle;\n",
       "    }\n",
       "\n",
       "    .dataframe tbody tr th {\n",
       "        vertical-align: top;\n",
       "    }\n",
       "\n",
       "    .dataframe thead th {\n",
       "        text-align: right;\n",
       "    }\n",
       "</style>\n",
       "<table border=\"1\" class=\"dataframe\">\n",
       "  <thead>\n",
       "    <tr style=\"text-align: right;\">\n",
       "      <th></th>\n",
       "      <th>mesh_id</th>\n",
       "      <th>mondo_id</th>\n",
       "    </tr>\n",
       "  </thead>\n",
       "  <tbody>\n",
       "    <tr>\n",
       "      <th>1</th>\n",
       "      <td>D004194</td>\n",
       "      <td>1</td>\n",
       "    </tr>\n",
       "    <tr>\n",
       "      <th>18</th>\n",
       "      <td>D000309</td>\n",
       "      <td>4</td>\n",
       "    </tr>\n",
       "    <tr>\n",
       "      <th>44</th>\n",
       "      <td>D053206</td>\n",
       "      <td>22</td>\n",
       "    </tr>\n",
       "    <tr>\n",
       "      <th>104</th>\n",
       "      <td>D056887</td>\n",
       "      <td>82</td>\n",
       "    </tr>\n",
       "    <tr>\n",
       "      <th>116</th>\n",
       "      <td>D065706</td>\n",
       "      <td>87</td>\n",
       "    </tr>\n",
       "  </tbody>\n",
       "</table>\n",
       "</div>"
      ],
      "text/plain": [
       "     mesh_id  mondo_id\n",
       "1    D004194         1\n",
       "18   D000309         4\n",
       "44   D053206        22\n",
       "104  D056887        82\n",
       "116  D065706        87"
      ]
     },
     "execution_count": 132,
     "metadata": {},
     "output_type": "execute_result"
    }
   ],
   "source": [
    "mesh_mondo=map_data[map_data['ontology']=='MESH'][['ontology_id','mondo_id']]\n",
    "mesh_mondo=mesh_mondo.rename(columns={\"ontology_id\":\"mesh_id\",\"mondo_id\":'mondo_id'})\n",
    "mesh_mondo.head()\n",
    "\n",
    "# mondo_id 对应的是 disease 的 x_id 和 y_id"
   ]
  },
  {
   "attachments": {},
   "cell_type": "markdown",
   "metadata": {},
   "source": [
    "### protein_protein：gene_gene, GGI"
   ]
  },
  {
   "cell_type": "code",
   "execution_count": 133,
   "metadata": {},
   "outputs": [
    {
     "data": {
      "text/html": [
       "<div>\n",
       "<style scoped>\n",
       "    .dataframe tbody tr th:only-of-type {\n",
       "        vertical-align: middle;\n",
       "    }\n",
       "\n",
       "    .dataframe tbody tr th {\n",
       "        vertical-align: top;\n",
       "    }\n",
       "\n",
       "    .dataframe thead th {\n",
       "        text-align: right;\n",
       "    }\n",
       "</style>\n",
       "<table border=\"1\" class=\"dataframe\">\n",
       "  <thead>\n",
       "    <tr style=\"text-align: right;\">\n",
       "      <th></th>\n",
       "      <th>head</th>\n",
       "      <th>tail</th>\n",
       "    </tr>\n",
       "  </thead>\n",
       "  <tbody>\n",
       "    <tr>\n",
       "      <th>0</th>\n",
       "      <td>PHYHIP</td>\n",
       "      <td>KIF15</td>\n",
       "    </tr>\n",
       "    <tr>\n",
       "      <th>1</th>\n",
       "      <td>GPANK1</td>\n",
       "      <td>PNMA1</td>\n",
       "    </tr>\n",
       "    <tr>\n",
       "      <th>2</th>\n",
       "      <td>ZRSR2</td>\n",
       "      <td>TTC33</td>\n",
       "    </tr>\n",
       "    <tr>\n",
       "      <th>3</th>\n",
       "      <td>NRF1</td>\n",
       "      <td>MAN1B1</td>\n",
       "    </tr>\n",
       "    <tr>\n",
       "      <th>4</th>\n",
       "      <td>PI4KA</td>\n",
       "      <td>RGS20</td>\n",
       "    </tr>\n",
       "  </tbody>\n",
       "</table>\n",
       "</div>"
      ],
      "text/plain": [
       "     head    tail\n",
       "0  PHYHIP   KIF15\n",
       "1  GPANK1   PNMA1\n",
       "2   ZRSR2   TTC33\n",
       "3    NRF1  MAN1B1\n",
       "4   PI4KA   RGS20"
      ]
     },
     "execution_count": 133,
     "metadata": {},
     "output_type": "execute_result"
    }
   ],
   "source": [
    "primekg_ggi = primekg[primekg['relation'] == 'protein_protein'][['x_name','y_name']]\n",
    "# 重命名\n",
    "primekg_ggi = primekg_ggi.rename(columns={\"x_name\": \"head\", \"y_name\": \"tail\"})\n",
    "primekg_ggi.head()"
   ]
  },
  {
   "cell_type": "code",
   "execution_count": 134,
   "metadata": {},
   "outputs": [
    {
     "data": {
      "text/html": [
       "<div>\n",
       "<style scoped>\n",
       "    .dataframe tbody tr th:only-of-type {\n",
       "        vertical-align: middle;\n",
       "    }\n",
       "\n",
       "    .dataframe tbody tr th {\n",
       "        vertical-align: top;\n",
       "    }\n",
       "\n",
       "    .dataframe thead th {\n",
       "        text-align: right;\n",
       "    }\n",
       "</style>\n",
       "<table border=\"1\" class=\"dataframe\">\n",
       "  <thead>\n",
       "    <tr style=\"text-align: right;\">\n",
       "      <th></th>\n",
       "      <th>head</th>\n",
       "      <th>relation</th>\n",
       "      <th>tail</th>\n",
       "    </tr>\n",
       "  </thead>\n",
       "  <tbody>\n",
       "    <tr>\n",
       "      <th>0</th>\n",
       "      <td>PHYHIP</td>\n",
       "      <td>GGI</td>\n",
       "      <td>KIF15</td>\n",
       "    </tr>\n",
       "    <tr>\n",
       "      <th>1</th>\n",
       "      <td>GPANK1</td>\n",
       "      <td>GGI</td>\n",
       "      <td>PNMA1</td>\n",
       "    </tr>\n",
       "    <tr>\n",
       "      <th>2</th>\n",
       "      <td>ZRSR2</td>\n",
       "      <td>GGI</td>\n",
       "      <td>TTC33</td>\n",
       "    </tr>\n",
       "    <tr>\n",
       "      <th>3</th>\n",
       "      <td>NRF1</td>\n",
       "      <td>GGI</td>\n",
       "      <td>MAN1B1</td>\n",
       "    </tr>\n",
       "    <tr>\n",
       "      <th>4</th>\n",
       "      <td>PI4KA</td>\n",
       "      <td>GGI</td>\n",
       "      <td>RGS20</td>\n",
       "    </tr>\n",
       "  </tbody>\n",
       "</table>\n",
       "</div>"
      ],
      "text/plain": [
       "     head relation    tail\n",
       "0  PHYHIP      GGI   KIF15\n",
       "1  GPANK1      GGI   PNMA1\n",
       "2   ZRSR2      GGI   TTC33\n",
       "3    NRF1      GGI  MAN1B1\n",
       "4   PI4KA      GGI   RGS20"
      ]
     },
     "execution_count": 134,
     "metadata": {},
     "output_type": "execute_result"
    }
   ],
   "source": [
    "primekg_ggi['relation'] = 'GGI'\n",
    "# 更改列的顺序\n",
    "primekg_ggi = primekg_ggi[['head', 'relation', 'tail']]\n",
    "primekg_ggi.head()"
   ]
  },
  {
   "cell_type": "code",
   "execution_count": 135,
   "metadata": {},
   "outputs": [],
   "source": [
    "# 将 primekg 和 biokg 合并\n",
    "biokg = pd.concat([biokg, primekg_ggi], axis=0)\n",
    "# 重置索引\n",
    "biokg.reset_index(drop=True, inplace=True)"
   ]
  },
  {
   "attachments": {},
   "cell_type": "markdown",
   "metadata": {},
   "source": [
    "### drug_drug"
   ]
  },
  {
   "cell_type": "code",
   "execution_count": 136,
   "metadata": {},
   "outputs": [
    {
     "data": {
      "text/html": [
       "<div>\n",
       "<style scoped>\n",
       "    .dataframe tbody tr th:only-of-type {\n",
       "        vertical-align: middle;\n",
       "    }\n",
       "\n",
       "    .dataframe tbody tr th {\n",
       "        vertical-align: top;\n",
       "    }\n",
       "\n",
       "    .dataframe thead th {\n",
       "        text-align: right;\n",
       "    }\n",
       "</style>\n",
       "<table border=\"1\" class=\"dataframe\">\n",
       "  <thead>\n",
       "    <tr style=\"text-align: right;\">\n",
       "      <th></th>\n",
       "      <th>head</th>\n",
       "      <th>tail</th>\n",
       "    </tr>\n",
       "  </thead>\n",
       "  <tbody>\n",
       "    <tr>\n",
       "      <th>389359</th>\n",
       "      <td>DB00001</td>\n",
       "      <td>DB06605</td>\n",
       "    </tr>\n",
       "    <tr>\n",
       "      <th>389360</th>\n",
       "      <td>DB00005</td>\n",
       "      <td>DB06605</td>\n",
       "    </tr>\n",
       "    <tr>\n",
       "      <th>389361</th>\n",
       "      <td>DB00006</td>\n",
       "      <td>DB06605</td>\n",
       "    </tr>\n",
       "    <tr>\n",
       "      <th>389362</th>\n",
       "      <td>DB00008</td>\n",
       "      <td>DB06605</td>\n",
       "    </tr>\n",
       "    <tr>\n",
       "      <th>389363</th>\n",
       "      <td>DB00009</td>\n",
       "      <td>DB06605</td>\n",
       "    </tr>\n",
       "  </tbody>\n",
       "</table>\n",
       "</div>"
      ],
      "text/plain": [
       "           head     tail\n",
       "389359  DB00001  DB06605\n",
       "389360  DB00005  DB06605\n",
       "389361  DB00006  DB06605\n",
       "389362  DB00008  DB06605\n",
       "389363  DB00009  DB06605"
      ]
     },
     "execution_count": 136,
     "metadata": {},
     "output_type": "execute_result"
    }
   ],
   "source": [
    "primekg_ddi = primekg[primekg['relation'] == 'drug_drug'][['x_id','y_id']]\n",
    "# 重命名\n",
    "primekg_ddi = primekg_ddi.rename(columns={\"x_id\": \"head\", \"y_id\": \"tail\"})\n",
    "primekg_ddi.head()"
   ]
  },
  {
   "cell_type": "code",
   "execution_count": 137,
   "metadata": {},
   "outputs": [
    {
     "data": {
      "text/html": [
       "<div>\n",
       "<style scoped>\n",
       "    .dataframe tbody tr th:only-of-type {\n",
       "        vertical-align: middle;\n",
       "    }\n",
       "\n",
       "    .dataframe tbody tr th {\n",
       "        vertical-align: top;\n",
       "    }\n",
       "\n",
       "    .dataframe thead th {\n",
       "        text-align: right;\n",
       "    }\n",
       "</style>\n",
       "<table border=\"1\" class=\"dataframe\">\n",
       "  <thead>\n",
       "    <tr style=\"text-align: right;\">\n",
       "      <th></th>\n",
       "      <th>head</th>\n",
       "      <th>tail</th>\n",
       "    </tr>\n",
       "  </thead>\n",
       "  <tbody>\n",
       "    <tr>\n",
       "      <th>3061982</th>\n",
       "      <td>DB14443</td>\n",
       "      <td>DB14521</td>\n",
       "    </tr>\n",
       "    <tr>\n",
       "      <th>3061983</th>\n",
       "      <td>DB14583</td>\n",
       "      <td>DB11074</td>\n",
       "    </tr>\n",
       "    <tr>\n",
       "      <th>3061984</th>\n",
       "      <td>DB14845</td>\n",
       "      <td>DB13153</td>\n",
       "    </tr>\n",
       "    <tr>\n",
       "      <th>3061985</th>\n",
       "      <td>DB14895</td>\n",
       "      <td>DB13272</td>\n",
       "    </tr>\n",
       "    <tr>\n",
       "      <th>3061986</th>\n",
       "      <td>DB15305</td>\n",
       "      <td>DB08837</td>\n",
       "    </tr>\n",
       "  </tbody>\n",
       "</table>\n",
       "</div>"
      ],
      "text/plain": [
       "            head     tail\n",
       "3061982  DB14443  DB14521\n",
       "3061983  DB14583  DB11074\n",
       "3061984  DB14845  DB13153\n",
       "3061985  DB14895  DB13272\n",
       "3061986  DB15305  DB08837"
      ]
     },
     "execution_count": 137,
     "metadata": {},
     "output_type": "execute_result"
    }
   ],
   "source": [
    "primekg_ddi.tail()"
   ]
  },
  {
   "cell_type": "code",
   "execution_count": 138,
   "metadata": {},
   "outputs": [
    {
     "data": {
      "text/html": [
       "<div>\n",
       "<style scoped>\n",
       "    .dataframe tbody tr th:only-of-type {\n",
       "        vertical-align: middle;\n",
       "    }\n",
       "\n",
       "    .dataframe tbody tr th {\n",
       "        vertical-align: top;\n",
       "    }\n",
       "\n",
       "    .dataframe thead th {\n",
       "        text-align: right;\n",
       "    }\n",
       "</style>\n",
       "<table border=\"1\" class=\"dataframe\">\n",
       "  <thead>\n",
       "    <tr style=\"text-align: right;\">\n",
       "      <th></th>\n",
       "      <th>head</th>\n",
       "      <th>relation</th>\n",
       "      <th>tail</th>\n",
       "    </tr>\n",
       "  </thead>\n",
       "  <tbody>\n",
       "    <tr>\n",
       "      <th>389359</th>\n",
       "      <td>DB00001</td>\n",
       "      <td>DDI</td>\n",
       "      <td>DB06605</td>\n",
       "    </tr>\n",
       "    <tr>\n",
       "      <th>389360</th>\n",
       "      <td>DB00005</td>\n",
       "      <td>DDI</td>\n",
       "      <td>DB06605</td>\n",
       "    </tr>\n",
       "    <tr>\n",
       "      <th>389361</th>\n",
       "      <td>DB00006</td>\n",
       "      <td>DDI</td>\n",
       "      <td>DB06605</td>\n",
       "    </tr>\n",
       "    <tr>\n",
       "      <th>389362</th>\n",
       "      <td>DB00008</td>\n",
       "      <td>DDI</td>\n",
       "      <td>DB06605</td>\n",
       "    </tr>\n",
       "    <tr>\n",
       "      <th>389363</th>\n",
       "      <td>DB00009</td>\n",
       "      <td>DDI</td>\n",
       "      <td>DB06605</td>\n",
       "    </tr>\n",
       "  </tbody>\n",
       "</table>\n",
       "</div>"
      ],
      "text/plain": [
       "           head relation     tail\n",
       "389359  DB00001      DDI  DB06605\n",
       "389360  DB00005      DDI  DB06605\n",
       "389361  DB00006      DDI  DB06605\n",
       "389362  DB00008      DDI  DB06605\n",
       "389363  DB00009      DDI  DB06605"
      ]
     },
     "execution_count": 138,
     "metadata": {},
     "output_type": "execute_result"
    }
   ],
   "source": [
    "primekg_ddi['relation'] = 'DDI'\n",
    "# 更改列的顺序\n",
    "primekg_ddi = primekg_ddi[['head', 'relation', 'tail']]\n",
    "primekg_ddi.head()"
   ]
  },
  {
   "cell_type": "code",
   "execution_count": 139,
   "metadata": {},
   "outputs": [],
   "source": [
    "biokg = pd.concat([biokg, primekg_ddi], axis=0)\n",
    "# 重置索引\n",
    "biokg.reset_index(drop=True, inplace=True)"
   ]
  },
  {
   "attachments": {},
   "cell_type": "markdown",
   "metadata": {},
   "source": [
    "### pathway_pathway"
   ]
  },
  {
   "cell_type": "code",
   "execution_count": 140,
   "metadata": {},
   "outputs": [
    {
     "data": {
      "text/html": [
       "<div>\n",
       "<style scoped>\n",
       "    .dataframe tbody tr th:only-of-type {\n",
       "        vertical-align: middle;\n",
       "    }\n",
       "\n",
       "    .dataframe tbody tr th {\n",
       "        vertical-align: top;\n",
       "    }\n",
       "\n",
       "    .dataframe thead th {\n",
       "        text-align: right;\n",
       "    }\n",
       "</style>\n",
       "<table border=\"1\" class=\"dataframe\">\n",
       "  <thead>\n",
       "    <tr style=\"text-align: right;\">\n",
       "      <th></th>\n",
       "      <th>head</th>\n",
       "      <th>tail</th>\n",
       "    </tr>\n",
       "  </thead>\n",
       "  <tbody>\n",
       "    <tr>\n",
       "      <th>3789497</th>\n",
       "      <td>R-HSA-109581</td>\n",
       "      <td>R-HSA-109606</td>\n",
       "    </tr>\n",
       "    <tr>\n",
       "      <th>3789498</th>\n",
       "      <td>R-HSA-109581</td>\n",
       "      <td>R-HSA-169911</td>\n",
       "    </tr>\n",
       "    <tr>\n",
       "      <th>3789499</th>\n",
       "      <td>R-HSA-109581</td>\n",
       "      <td>R-HSA-5357769</td>\n",
       "    </tr>\n",
       "    <tr>\n",
       "      <th>3789500</th>\n",
       "      <td>R-HSA-109581</td>\n",
       "      <td>R-HSA-75153</td>\n",
       "    </tr>\n",
       "    <tr>\n",
       "      <th>3789501</th>\n",
       "      <td>R-HSA-109582</td>\n",
       "      <td>R-HSA-140877</td>\n",
       "    </tr>\n",
       "  </tbody>\n",
       "</table>\n",
       "</div>"
      ],
      "text/plain": [
       "                 head           tail\n",
       "3789497  R-HSA-109581   R-HSA-109606\n",
       "3789498  R-HSA-109581   R-HSA-169911\n",
       "3789499  R-HSA-109581  R-HSA-5357769\n",
       "3789500  R-HSA-109581    R-HSA-75153\n",
       "3789501  R-HSA-109582   R-HSA-140877"
      ]
     },
     "execution_count": 140,
     "metadata": {},
     "output_type": "execute_result"
    }
   ],
   "source": [
    "primekg_papa = primekg[primekg['relation'] == 'pathway_pathway'][['x_id','y_id']]\n",
    "# 重命名\n",
    "primekg_papa = primekg_papa.rename(columns={\"x_id\": \"head\", \"y_id\": \"tail\"})\n",
    "primekg_papa.head()"
   ]
  },
  {
   "cell_type": "code",
   "execution_count": 141,
   "metadata": {},
   "outputs": [
    {
     "data": {
      "text/html": [
       "<div>\n",
       "<style scoped>\n",
       "    .dataframe tbody tr th:only-of-type {\n",
       "        vertical-align: middle;\n",
       "    }\n",
       "\n",
       "    .dataframe tbody tr th {\n",
       "        vertical-align: top;\n",
       "    }\n",
       "\n",
       "    .dataframe thead th {\n",
       "        text-align: right;\n",
       "    }\n",
       "</style>\n",
       "<table border=\"1\" class=\"dataframe\">\n",
       "  <thead>\n",
       "    <tr style=\"text-align: right;\">\n",
       "      <th></th>\n",
       "      <th>head</th>\n",
       "      <th>tail</th>\n",
       "    </tr>\n",
       "  </thead>\n",
       "  <tbody>\n",
       "    <tr>\n",
       "      <th>6505725</th>\n",
       "      <td>R-HSA-5690714</td>\n",
       "      <td>R-HSA-983705</td>\n",
       "    </tr>\n",
       "    <tr>\n",
       "      <th>6505726</th>\n",
       "      <td>R-HSA-983695</td>\n",
       "      <td>R-HSA-983705</td>\n",
       "    </tr>\n",
       "    <tr>\n",
       "      <th>6505727</th>\n",
       "      <td>R-HSA-2672351</td>\n",
       "      <td>R-HSA-983712</td>\n",
       "    </tr>\n",
       "    <tr>\n",
       "      <th>6505728</th>\n",
       "      <td>R-HSA-936837</td>\n",
       "      <td>R-HSA-983712</td>\n",
       "    </tr>\n",
       "    <tr>\n",
       "      <th>6505729</th>\n",
       "      <td>R-HSA-997272</td>\n",
       "      <td>R-HSA-991365</td>\n",
       "    </tr>\n",
       "  </tbody>\n",
       "</table>\n",
       "</div>"
      ],
      "text/plain": [
       "                  head          tail\n",
       "6505725  R-HSA-5690714  R-HSA-983705\n",
       "6505726   R-HSA-983695  R-HSA-983705\n",
       "6505727  R-HSA-2672351  R-HSA-983712\n",
       "6505728   R-HSA-936837  R-HSA-983712\n",
       "6505729   R-HSA-997272  R-HSA-991365"
      ]
     },
     "execution_count": 141,
     "metadata": {},
     "output_type": "execute_result"
    }
   ],
   "source": [
    "primekg_papa.tail()"
   ]
  },
  {
   "cell_type": "code",
   "execution_count": 142,
   "metadata": {},
   "outputs": [
    {
     "data": {
      "text/html": [
       "<div>\n",
       "<style scoped>\n",
       "    .dataframe tbody tr th:only-of-type {\n",
       "        vertical-align: middle;\n",
       "    }\n",
       "\n",
       "    .dataframe tbody tr th {\n",
       "        vertical-align: top;\n",
       "    }\n",
       "\n",
       "    .dataframe thead th {\n",
       "        text-align: right;\n",
       "    }\n",
       "</style>\n",
       "<table border=\"1\" class=\"dataframe\">\n",
       "  <thead>\n",
       "    <tr style=\"text-align: right;\">\n",
       "      <th></th>\n",
       "      <th>head</th>\n",
       "      <th>relation</th>\n",
       "      <th>tail</th>\n",
       "    </tr>\n",
       "  </thead>\n",
       "  <tbody>\n",
       "    <tr>\n",
       "      <th>3789497</th>\n",
       "      <td>R-HSA-109581</td>\n",
       "      <td>PATHWAY_PATHWAY</td>\n",
       "      <td>R-HSA-109606</td>\n",
       "    </tr>\n",
       "    <tr>\n",
       "      <th>3789498</th>\n",
       "      <td>R-HSA-109581</td>\n",
       "      <td>PATHWAY_PATHWAY</td>\n",
       "      <td>R-HSA-169911</td>\n",
       "    </tr>\n",
       "    <tr>\n",
       "      <th>3789499</th>\n",
       "      <td>R-HSA-109581</td>\n",
       "      <td>PATHWAY_PATHWAY</td>\n",
       "      <td>R-HSA-5357769</td>\n",
       "    </tr>\n",
       "    <tr>\n",
       "      <th>3789500</th>\n",
       "      <td>R-HSA-109581</td>\n",
       "      <td>PATHWAY_PATHWAY</td>\n",
       "      <td>R-HSA-75153</td>\n",
       "    </tr>\n",
       "    <tr>\n",
       "      <th>3789501</th>\n",
       "      <td>R-HSA-109582</td>\n",
       "      <td>PATHWAY_PATHWAY</td>\n",
       "      <td>R-HSA-140877</td>\n",
       "    </tr>\n",
       "  </tbody>\n",
       "</table>\n",
       "</div>"
      ],
      "text/plain": [
       "                 head         relation           tail\n",
       "3789497  R-HSA-109581  PATHWAY_PATHWAY   R-HSA-109606\n",
       "3789498  R-HSA-109581  PATHWAY_PATHWAY   R-HSA-169911\n",
       "3789499  R-HSA-109581  PATHWAY_PATHWAY  R-HSA-5357769\n",
       "3789500  R-HSA-109581  PATHWAY_PATHWAY    R-HSA-75153\n",
       "3789501  R-HSA-109582  PATHWAY_PATHWAY   R-HSA-140877"
      ]
     },
     "execution_count": 142,
     "metadata": {},
     "output_type": "execute_result"
    }
   ],
   "source": [
    "primekg_papa['relation'] = 'PATHWAY_PATHWAY'\n",
    "# 更改列的顺序\n",
    "primekg_papa = primekg_papa[['head', 'relation', 'tail']]\n",
    "primekg_papa.head()"
   ]
  },
  {
   "cell_type": "code",
   "execution_count": 143,
   "metadata": {},
   "outputs": [],
   "source": [
    "biokg = pd.concat([biokg, primekg_papa], axis=0)\n",
    "# 重置索引\n",
    "biokg.reset_index(drop=True, inplace=True)"
   ]
  },
  {
   "attachments": {},
   "cell_type": "markdown",
   "metadata": {},
   "source": [
    "### disease_disease"
   ]
  },
  {
   "cell_type": "code",
   "execution_count": 144,
   "metadata": {},
   "outputs": [
    {
     "data": {
      "text/html": [
       "<div>\n",
       "<style scoped>\n",
       "    .dataframe tbody tr th:only-of-type {\n",
       "        vertical-align: middle;\n",
       "    }\n",
       "\n",
       "    .dataframe tbody tr th {\n",
       "        vertical-align: top;\n",
       "    }\n",
       "\n",
       "    .dataframe thead th {\n",
       "        text-align: right;\n",
       "    }\n",
       "</style>\n",
       "<table border=\"1\" class=\"dataframe\">\n",
       "  <thead>\n",
       "    <tr style=\"text-align: right;\">\n",
       "      <th></th>\n",
       "      <th>mesh_id</th>\n",
       "      <th>mondo_id</th>\n",
       "    </tr>\n",
       "  </thead>\n",
       "  <tbody>\n",
       "    <tr>\n",
       "      <th>1</th>\n",
       "      <td>D004194</td>\n",
       "      <td>1</td>\n",
       "    </tr>\n",
       "    <tr>\n",
       "      <th>18</th>\n",
       "      <td>D000309</td>\n",
       "      <td>4</td>\n",
       "    </tr>\n",
       "    <tr>\n",
       "      <th>44</th>\n",
       "      <td>D053206</td>\n",
       "      <td>22</td>\n",
       "    </tr>\n",
       "    <tr>\n",
       "      <th>104</th>\n",
       "      <td>D056887</td>\n",
       "      <td>82</td>\n",
       "    </tr>\n",
       "    <tr>\n",
       "      <th>116</th>\n",
       "      <td>D065706</td>\n",
       "      <td>87</td>\n",
       "    </tr>\n",
       "  </tbody>\n",
       "</table>\n",
       "</div>"
      ],
      "text/plain": [
       "     mesh_id  mondo_id\n",
       "1    D004194         1\n",
       "18   D000309         4\n",
       "44   D053206        22\n",
       "104  D056887        82\n",
       "116  D065706        87"
      ]
     },
     "execution_count": 144,
     "metadata": {},
     "output_type": "execute_result"
    }
   ],
   "source": [
    "mesh_mondo.head()"
   ]
  },
  {
   "cell_type": "code",
   "execution_count": 145,
   "metadata": {},
   "outputs": [
    {
     "data": {
      "text/plain": [
       "mesh_id     object\n",
       "mondo_id     int64\n",
       "dtype: object"
      ]
     },
     "execution_count": 145,
     "metadata": {},
     "output_type": "execute_result"
    }
   ],
   "source": [
    "# 查看 mesh_mondo 的数据类型\n",
    "mesh_mondo.dtypes"
   ]
  },
  {
   "cell_type": "code",
   "execution_count": 146,
   "metadata": {},
   "outputs": [
    {
     "data": {
      "text/html": [
       "<div>\n",
       "<style scoped>\n",
       "    .dataframe tbody tr th:only-of-type {\n",
       "        vertical-align: middle;\n",
       "    }\n",
       "\n",
       "    .dataframe tbody tr th {\n",
       "        vertical-align: top;\n",
       "    }\n",
       "\n",
       "    .dataframe thead th {\n",
       "        text-align: right;\n",
       "    }\n",
       "</style>\n",
       "<table border=\"1\" class=\"dataframe\">\n",
       "  <thead>\n",
       "    <tr style=\"text-align: right;\">\n",
       "      <th></th>\n",
       "      <th>x_id</th>\n",
       "      <th>y_id</th>\n",
       "    </tr>\n",
       "  </thead>\n",
       "  <tbody>\n",
       "    <tr>\n",
       "      <th>3315993</th>\n",
       "      <td>2816</td>\n",
       "      <td>4</td>\n",
       "    </tr>\n",
       "    <tr>\n",
       "      <th>3315994</th>\n",
       "      <td>21034</td>\n",
       "      <td>5</td>\n",
       "    </tr>\n",
       "    <tr>\n",
       "      <th>3315995</th>\n",
       "      <td>2243</td>\n",
       "      <td>9</td>\n",
       "    </tr>\n",
       "    <tr>\n",
       "      <th>3315996</th>\n",
       "      <td>2245</td>\n",
       "      <td>9</td>\n",
       "    </tr>\n",
       "    <tr>\n",
       "      <th>3315997</th>\n",
       "      <td>3847</td>\n",
       "      <td>9</td>\n",
       "    </tr>\n",
       "  </tbody>\n",
       "</table>\n",
       "</div>"
      ],
      "text/plain": [
       "          x_id  y_id\n",
       "3315993   2816     4\n",
       "3315994  21034     5\n",
       "3315995   2243     9\n",
       "3315996   2245     9\n",
       "3315997   3847     9"
      ]
     },
     "execution_count": 146,
     "metadata": {},
     "output_type": "execute_result"
    }
   ],
   "source": [
    "primekg_didi = primekg[(primekg['relation'] == 'disease_disease') & (primekg['x_source'] == 'MONDO') & (primekg['y_source'] == 'MONDO')][['x_id','y_id']]\n",
    "# 转换 x_id 和 y_id 的数据类型\n",
    "primekg_didi['x_id'] = primekg_didi['x_id'].astype('int64')\n",
    "primekg_didi['y_id'] = primekg_didi['y_id'].astype('int64')\n",
    "primekg_didi.head()"
   ]
  },
  {
   "cell_type": "code",
   "execution_count": 147,
   "metadata": {},
   "outputs": [
    {
     "data": {
      "text/html": [
       "<div>\n",
       "<style scoped>\n",
       "    .dataframe tbody tr th:only-of-type {\n",
       "        vertical-align: middle;\n",
       "    }\n",
       "\n",
       "    .dataframe tbody tr th {\n",
       "        vertical-align: top;\n",
       "    }\n",
       "\n",
       "    .dataframe thead th {\n",
       "        text-align: right;\n",
       "    }\n",
       "</style>\n",
       "<table border=\"1\" class=\"dataframe\">\n",
       "  <thead>\n",
       "    <tr style=\"text-align: right;\">\n",
       "      <th></th>\n",
       "      <th>x_id</th>\n",
       "      <th>y_id</th>\n",
       "    </tr>\n",
       "  </thead>\n",
       "  <tbody>\n",
       "    <tr>\n",
       "      <th>0</th>\n",
       "      <td>D000303</td>\n",
       "      <td>D000309</td>\n",
       "    </tr>\n",
       "    <tr>\n",
       "      <th>1</th>\n",
       "      <td>NaN</td>\n",
       "      <td>NaN</td>\n",
       "    </tr>\n",
       "    <tr>\n",
       "      <th>2</th>\n",
       "      <td>D006474</td>\n",
       "      <td>NaN</td>\n",
       "    </tr>\n",
       "    <tr>\n",
       "      <th>3</th>\n",
       "      <td>D001791</td>\n",
       "      <td>NaN</td>\n",
       "    </tr>\n",
       "    <tr>\n",
       "      <th>4</th>\n",
       "      <td>D030342</td>\n",
       "      <td>NaN</td>\n",
       "    </tr>\n",
       "  </tbody>\n",
       "</table>\n",
       "</div>"
      ],
      "text/plain": [
       "      x_id     y_id\n",
       "0  D000303  D000309\n",
       "1      NaN      NaN\n",
       "2  D006474      NaN\n",
       "3  D001791      NaN\n",
       "4  D030342      NaN"
      ]
     },
     "execution_count": 147,
     "metadata": {},
     "output_type": "execute_result"
    }
   ],
   "source": [
    "# 利用 mesh_mondo 将 mondo_id 转换为 mesh_id\n",
    "primekg_didi = pd.merge(primekg_didi, mesh_mondo, left_on='x_id', right_on='mondo_id', how='left')\n",
    "# 删除 x_id 和 mondo_id 列\n",
    "primekg_didi.drop(['x_id', 'mondo_id'], axis=1, inplace=True)\n",
    "# 将 mesh_id 重命名为 x_id\n",
    "primekg_didi = primekg_didi.rename(columns={\"mesh_id\": \"x_id\"})\n",
    "\n",
    "primekg_didi = pd.merge(primekg_didi, mesh_mondo, left_on='y_id', right_on='mondo_id', how='left')\n",
    "primekg_didi.drop(['y_id', 'mondo_id'], axis=1, inplace=True)\n",
    "primekg_didi = primekg_didi.rename(columns={\"mesh_id\": \"y_id\"})\n",
    "\n",
    "primekg_didi.head()"
   ]
  },
  {
   "cell_type": "code",
   "execution_count": 148,
   "metadata": {},
   "outputs": [
    {
     "data": {
      "text/plain": [
       "(50660, 2)"
      ]
     },
     "execution_count": 148,
     "metadata": {},
     "output_type": "execute_result"
    }
   ],
   "source": [
    "primekg_didi.shape"
   ]
  },
  {
   "cell_type": "code",
   "execution_count": 149,
   "metadata": {},
   "outputs": [
    {
     "data": {
      "text/plain": [
       "(8974, 2)"
      ]
     },
     "execution_count": 149,
     "metadata": {},
     "output_type": "execute_result"
    }
   ],
   "source": [
    "# 如果 x_id 和 y_id 有一个为空，则删除该行\n",
    "primekg_didi = primekg_didi.dropna()\n",
    "primekg_didi.shape"
   ]
  },
  {
   "cell_type": "code",
   "execution_count": 150,
   "metadata": {},
   "outputs": [
    {
     "data": {
      "text/html": [
       "<div>\n",
       "<style scoped>\n",
       "    .dataframe tbody tr th:only-of-type {\n",
       "        vertical-align: middle;\n",
       "    }\n",
       "\n",
       "    .dataframe tbody tr th {\n",
       "        vertical-align: top;\n",
       "    }\n",
       "\n",
       "    .dataframe thead th {\n",
       "        text-align: right;\n",
       "    }\n",
       "</style>\n",
       "<table border=\"1\" class=\"dataframe\">\n",
       "  <thead>\n",
       "    <tr style=\"text-align: right;\">\n",
       "      <th></th>\n",
       "      <th>x_id</th>\n",
       "      <th>y_id</th>\n",
       "    </tr>\n",
       "  </thead>\n",
       "  <tbody>\n",
       "    <tr>\n",
       "      <th>0</th>\n",
       "      <td>D000303</td>\n",
       "      <td>D000309</td>\n",
       "    </tr>\n",
       "    <tr>\n",
       "      <th>12</th>\n",
       "      <td>D030342</td>\n",
       "      <td>C567144</td>\n",
       "    </tr>\n",
       "    <tr>\n",
       "      <th>34</th>\n",
       "      <td>D001145</td>\n",
       "      <td>D014693</td>\n",
       "    </tr>\n",
       "    <tr>\n",
       "      <th>46</th>\n",
       "      <td>D000073605</td>\n",
       "      <td>D000073605</td>\n",
       "    </tr>\n",
       "    <tr>\n",
       "      <th>53</th>\n",
       "      <td>D003384</td>\n",
       "      <td>C536166</td>\n",
       "    </tr>\n",
       "  </tbody>\n",
       "</table>\n",
       "</div>"
      ],
      "text/plain": [
       "          x_id        y_id\n",
       "0      D000303     D000309\n",
       "12     D030342     C567144\n",
       "34     D001145     D014693\n",
       "46  D000073605  D000073605\n",
       "53     D003384     C536166"
      ]
     },
     "execution_count": 150,
     "metadata": {},
     "output_type": "execute_result"
    }
   ],
   "source": [
    "primekg_didi.head()"
   ]
  },
  {
   "cell_type": "code",
   "execution_count": 151,
   "metadata": {},
   "outputs": [
    {
     "data": {
      "text/html": [
       "<div>\n",
       "<style scoped>\n",
       "    .dataframe tbody tr th:only-of-type {\n",
       "        vertical-align: middle;\n",
       "    }\n",
       "\n",
       "    .dataframe tbody tr th {\n",
       "        vertical-align: top;\n",
       "    }\n",
       "\n",
       "    .dataframe thead th {\n",
       "        text-align: right;\n",
       "    }\n",
       "</style>\n",
       "<table border=\"1\" class=\"dataframe\">\n",
       "  <thead>\n",
       "    <tr style=\"text-align: right;\">\n",
       "      <th></th>\n",
       "      <th>head</th>\n",
       "      <th>tail</th>\n",
       "    </tr>\n",
       "  </thead>\n",
       "  <tbody>\n",
       "    <tr>\n",
       "      <th>0</th>\n",
       "      <td>D000303</td>\n",
       "      <td>D000309</td>\n",
       "    </tr>\n",
       "    <tr>\n",
       "      <th>12</th>\n",
       "      <td>D030342</td>\n",
       "      <td>C567144</td>\n",
       "    </tr>\n",
       "    <tr>\n",
       "      <th>34</th>\n",
       "      <td>D001145</td>\n",
       "      <td>D014693</td>\n",
       "    </tr>\n",
       "    <tr>\n",
       "      <th>46</th>\n",
       "      <td>D000073605</td>\n",
       "      <td>D000073605</td>\n",
       "    </tr>\n",
       "    <tr>\n",
       "      <th>53</th>\n",
       "      <td>D003384</td>\n",
       "      <td>C536166</td>\n",
       "    </tr>\n",
       "  </tbody>\n",
       "</table>\n",
       "</div>"
      ],
      "text/plain": [
       "          head        tail\n",
       "0      D000303     D000309\n",
       "12     D030342     C567144\n",
       "34     D001145     D014693\n",
       "46  D000073605  D000073605\n",
       "53     D003384     C536166"
      ]
     },
     "execution_count": 151,
     "metadata": {},
     "output_type": "execute_result"
    }
   ],
   "source": [
    "# 重命名\n",
    "primekg_didi = primekg_didi.rename(columns={\"x_id\": \"head\", \"y_id\": \"tail\"})\n",
    "primekg_didi.head()"
   ]
  },
  {
   "cell_type": "code",
   "execution_count": 152,
   "metadata": {},
   "outputs": [
    {
     "data": {
      "text/html": [
       "<div>\n",
       "<style scoped>\n",
       "    .dataframe tbody tr th:only-of-type {\n",
       "        vertical-align: middle;\n",
       "    }\n",
       "\n",
       "    .dataframe tbody tr th {\n",
       "        vertical-align: top;\n",
       "    }\n",
       "\n",
       "    .dataframe thead th {\n",
       "        text-align: right;\n",
       "    }\n",
       "</style>\n",
       "<table border=\"1\" class=\"dataframe\">\n",
       "  <thead>\n",
       "    <tr style=\"text-align: right;\">\n",
       "      <th></th>\n",
       "      <th>head</th>\n",
       "      <th>relation</th>\n",
       "      <th>tail</th>\n",
       "    </tr>\n",
       "  </thead>\n",
       "  <tbody>\n",
       "    <tr>\n",
       "      <th>0</th>\n",
       "      <td>D000303</td>\n",
       "      <td>DISEASE_DISEASE</td>\n",
       "      <td>D000309</td>\n",
       "    </tr>\n",
       "    <tr>\n",
       "      <th>12</th>\n",
       "      <td>D030342</td>\n",
       "      <td>DISEASE_DISEASE</td>\n",
       "      <td>C567144</td>\n",
       "    </tr>\n",
       "    <tr>\n",
       "      <th>34</th>\n",
       "      <td>D001145</td>\n",
       "      <td>DISEASE_DISEASE</td>\n",
       "      <td>D014693</td>\n",
       "    </tr>\n",
       "    <tr>\n",
       "      <th>46</th>\n",
       "      <td>D000073605</td>\n",
       "      <td>DISEASE_DISEASE</td>\n",
       "      <td>D000073605</td>\n",
       "    </tr>\n",
       "    <tr>\n",
       "      <th>53</th>\n",
       "      <td>D003384</td>\n",
       "      <td>DISEASE_DISEASE</td>\n",
       "      <td>C536166</td>\n",
       "    </tr>\n",
       "  </tbody>\n",
       "</table>\n",
       "</div>"
      ],
      "text/plain": [
       "          head         relation        tail\n",
       "0      D000303  DISEASE_DISEASE     D000309\n",
       "12     D030342  DISEASE_DISEASE     C567144\n",
       "34     D001145  DISEASE_DISEASE     D014693\n",
       "46  D000073605  DISEASE_DISEASE  D000073605\n",
       "53     D003384  DISEASE_DISEASE     C536166"
      ]
     },
     "execution_count": 152,
     "metadata": {},
     "output_type": "execute_result"
    }
   ],
   "source": [
    "primekg_didi['relation'] = 'DISEASE_DISEASE'\n",
    "# 更改列的顺序\n",
    "primekg_didi = primekg_didi[['head', 'relation', 'tail']]\n",
    "primekg_didi.head()"
   ]
  },
  {
   "cell_type": "code",
   "execution_count": 153,
   "metadata": {},
   "outputs": [],
   "source": [
    "biokg = pd.concat([biokg, primekg_didi], axis=0)\n",
    "# 重置索引\n",
    "biokg.reset_index(drop=True, inplace=True)"
   ]
  },
  {
   "attachments": {},
   "cell_type": "markdown",
   "metadata": {},
   "source": [
    "### drug_protein: drug_gene\n",
    "\n",
    "注意，primekg 中 x 既有可能是 drug，也有可能是 protein，因为它把正边和反边都包含进来了，我们在处理的时候只要包含正边就行了。"
   ]
  },
  {
   "cell_type": "code",
   "execution_count": 154,
   "metadata": {},
   "outputs": [
    {
     "data": {
      "text/html": [
       "<div>\n",
       "<style scoped>\n",
       "    .dataframe tbody tr th:only-of-type {\n",
       "        vertical-align: middle;\n",
       "    }\n",
       "\n",
       "    .dataframe tbody tr th {\n",
       "        vertical-align: top;\n",
       "    }\n",
       "\n",
       "    .dataframe thead th {\n",
       "        text-align: right;\n",
       "    }\n",
       "</style>\n",
       "<table border=\"1\" class=\"dataframe\">\n",
       "  <thead>\n",
       "    <tr style=\"text-align: right;\">\n",
       "      <th></th>\n",
       "      <th>head</th>\n",
       "      <th>tail</th>\n",
       "    </tr>\n",
       "  </thead>\n",
       "  <tbody>\n",
       "    <tr>\n",
       "      <th>346723</th>\n",
       "      <td>DB14548</td>\n",
       "      <td>SLC39A11</td>\n",
       "    </tr>\n",
       "    <tr>\n",
       "      <th>346724</th>\n",
       "      <td>DB14533</td>\n",
       "      <td>SLC30A6</td>\n",
       "    </tr>\n",
       "    <tr>\n",
       "      <th>346725</th>\n",
       "      <td>DB14548</td>\n",
       "      <td>SLC30A6</td>\n",
       "    </tr>\n",
       "    <tr>\n",
       "      <th>346726</th>\n",
       "      <td>DB09462</td>\n",
       "      <td>AQP7</td>\n",
       "    </tr>\n",
       "    <tr>\n",
       "      <th>346727</th>\n",
       "      <td>DB09462</td>\n",
       "      <td>AQP9</td>\n",
       "    </tr>\n",
       "  </tbody>\n",
       "</table>\n",
       "</div>"
      ],
      "text/plain": [
       "           head      tail\n",
       "346723  DB14548  SLC39A11\n",
       "346724  DB14533   SLC30A6\n",
       "346725  DB14548   SLC30A6\n",
       "346726  DB09462      AQP7\n",
       "346727  DB09462      AQP9"
      ]
     },
     "execution_count": 154,
     "metadata": {},
     "output_type": "execute_result"
    }
   ],
   "source": [
    "primekg_dgi = primekg[(primekg['relation'] == 'drug_protein') & (primekg['x_type'] == 'drug')][['x_id','y_name']]\n",
    "# 重命名\n",
    "primekg_dgi = primekg_dgi.rename(columns={\"x_id\": \"head\", \"y_name\": \"tail\"})\n",
    "primekg_dgi.tail()"
   ]
  },
  {
   "cell_type": "code",
   "execution_count": 155,
   "metadata": {},
   "outputs": [],
   "source": [
    "# primekg_gdi = primekg[(primekg['relation'] == 'drug_protein') & (primekg['x_type'] == 'gene/protein')][['x_name','y_id']]\n",
    "# primekg_gdi.tail()\n",
    "# # 交换列的顺序\n",
    "# primekg_gdi = primekg_gdi[['y_id','x_name']]\n",
    "# # 重命名\n",
    "# primekg_gdi = primekg_gdi.rename(columns={\"y_id\": \"head\", \"x_name\": \"tail\"})\n",
    "# primekg_gdi.head()"
   ]
  },
  {
   "cell_type": "code",
   "execution_count": 156,
   "metadata": {},
   "outputs": [],
   "source": [
    "# # 将 primekg_dgi 和 primekg_gdi 合并\n",
    "# primekg_dgi = pd.concat([primekg_dgi, primekg_gdi], axis=0)\n",
    "# primekg_dgi.tail()"
   ]
  },
  {
   "cell_type": "code",
   "execution_count": 157,
   "metadata": {},
   "outputs": [
    {
     "data": {
      "text/html": [
       "<div>\n",
       "<style scoped>\n",
       "    .dataframe tbody tr th:only-of-type {\n",
       "        vertical-align: middle;\n",
       "    }\n",
       "\n",
       "    .dataframe tbody tr th {\n",
       "        vertical-align: top;\n",
       "    }\n",
       "\n",
       "    .dataframe thead th {\n",
       "        text-align: right;\n",
       "    }\n",
       "</style>\n",
       "<table border=\"1\" class=\"dataframe\">\n",
       "  <thead>\n",
       "    <tr style=\"text-align: right;\">\n",
       "      <th></th>\n",
       "      <th>head</th>\n",
       "      <th>relation</th>\n",
       "      <th>tail</th>\n",
       "    </tr>\n",
       "  </thead>\n",
       "  <tbody>\n",
       "    <tr>\n",
       "      <th>321075</th>\n",
       "      <td>DB09130</td>\n",
       "      <td>DRUG_GENE</td>\n",
       "      <td>F8</td>\n",
       "    </tr>\n",
       "    <tr>\n",
       "      <th>321076</th>\n",
       "      <td>DB09130</td>\n",
       "      <td>DRUG_GENE</td>\n",
       "      <td>F5</td>\n",
       "    </tr>\n",
       "    <tr>\n",
       "      <th>321077</th>\n",
       "      <td>DB09140</td>\n",
       "      <td>DRUG_GENE</td>\n",
       "      <td>HBA2</td>\n",
       "    </tr>\n",
       "    <tr>\n",
       "      <th>321078</th>\n",
       "      <td>DB00180</td>\n",
       "      <td>DRUG_GENE</td>\n",
       "      <td>SERPINA6</td>\n",
       "    </tr>\n",
       "    <tr>\n",
       "      <th>321079</th>\n",
       "      <td>DB00240</td>\n",
       "      <td>DRUG_GENE</td>\n",
       "      <td>SERPINA6</td>\n",
       "    </tr>\n",
       "  </tbody>\n",
       "</table>\n",
       "</div>"
      ],
      "text/plain": [
       "           head   relation      tail\n",
       "321075  DB09130  DRUG_GENE        F8\n",
       "321076  DB09130  DRUG_GENE        F5\n",
       "321077  DB09140  DRUG_GENE      HBA2\n",
       "321078  DB00180  DRUG_GENE  SERPINA6\n",
       "321079  DB00240  DRUG_GENE  SERPINA6"
      ]
     },
     "execution_count": 157,
     "metadata": {},
     "output_type": "execute_result"
    }
   ],
   "source": [
    "primekg_dgi['relation'] = 'DRUG_GENE'\n",
    "# 更改列的顺序\n",
    "primekg_dgi = primekg_dgi[['head', 'relation', 'tail']]\n",
    "primekg_dgi.head()"
   ]
  },
  {
   "cell_type": "code",
   "execution_count": 158,
   "metadata": {},
   "outputs": [],
   "source": [
    "biokg = pd.concat([biokg, primekg_dgi], axis=0)\n",
    "# 重置索引\n",
    "biokg.reset_index(drop=True, inplace=True)"
   ]
  },
  {
   "cell_type": "code",
   "execution_count": 159,
   "metadata": {},
   "outputs": [
    {
     "data": {
      "text/plain": [
       "(5457351, 3)"
      ]
     },
     "execution_count": 159,
     "metadata": {},
     "output_type": "execute_result"
    }
   ],
   "source": [
    "biokg.shape"
   ]
  },
  {
   "attachments": {},
   "cell_type": "markdown",
   "metadata": {},
   "source": [
    "### pathway_protein: pathway_gene"
   ]
  },
  {
   "cell_type": "code",
   "execution_count": 160,
   "metadata": {},
   "outputs": [
    {
     "data": {
      "text/html": [
       "<div>\n",
       "<style scoped>\n",
       "    .dataframe tbody tr th:only-of-type {\n",
       "        vertical-align: middle;\n",
       "    }\n",
       "\n",
       "    .dataframe tbody tr th {\n",
       "        vertical-align: top;\n",
       "    }\n",
       "\n",
       "    .dataframe thead th {\n",
       "        text-align: right;\n",
       "    }\n",
       "</style>\n",
       "<table border=\"1\" class=\"dataframe\">\n",
       "  <thead>\n",
       "    <tr style=\"text-align: right;\">\n",
       "      <th></th>\n",
       "      <th>head</th>\n",
       "      <th>tail</th>\n",
       "    </tr>\n",
       "  </thead>\n",
       "  <tbody>\n",
       "    <tr>\n",
       "      <th>6505730</th>\n",
       "      <td>R-HSA-114608</td>\n",
       "      <td>A1BG</td>\n",
       "    </tr>\n",
       "    <tr>\n",
       "      <th>6505731</th>\n",
       "      <td>R-HSA-6798695</td>\n",
       "      <td>A1BG</td>\n",
       "    </tr>\n",
       "    <tr>\n",
       "      <th>6505732</th>\n",
       "      <td>R-HSA-156582</td>\n",
       "      <td>NAT2</td>\n",
       "    </tr>\n",
       "    <tr>\n",
       "      <th>6505733</th>\n",
       "      <td>R-HSA-74217</td>\n",
       "      <td>ADA</td>\n",
       "    </tr>\n",
       "    <tr>\n",
       "      <th>6505734</th>\n",
       "      <td>R-HSA-381426</td>\n",
       "      <td>CDH2</td>\n",
       "    </tr>\n",
       "  </tbody>\n",
       "</table>\n",
       "</div>"
      ],
      "text/plain": [
       "                  head  tail\n",
       "6505730   R-HSA-114608  A1BG\n",
       "6505731  R-HSA-6798695  A1BG\n",
       "6505732   R-HSA-156582  NAT2\n",
       "6505733    R-HSA-74217   ADA\n",
       "6505734   R-HSA-381426  CDH2"
      ]
     },
     "execution_count": 160,
     "metadata": {},
     "output_type": "execute_result"
    }
   ],
   "source": [
    "primekg_pagi = primekg[(primekg['relation'] == 'pathway_protein') & (primekg['x_type'] == 'pathway')][['x_id','y_name']]\n",
    "# 重命名\n",
    "primekg_pagi = primekg_pagi.rename(columns={\"x_id\": \"head\", \"y_name\": \"tail\"})\n",
    "primekg_pagi.head()"
   ]
  },
  {
   "cell_type": "code",
   "execution_count": 161,
   "metadata": {},
   "outputs": [
    {
     "data": {
      "text/html": [
       "<div>\n",
       "<style scoped>\n",
       "    .dataframe tbody tr th:only-of-type {\n",
       "        vertical-align: middle;\n",
       "    }\n",
       "\n",
       "    .dataframe tbody tr th {\n",
       "        vertical-align: top;\n",
       "    }\n",
       "\n",
       "    .dataframe thead th {\n",
       "        text-align: right;\n",
       "    }\n",
       "</style>\n",
       "<table border=\"1\" class=\"dataframe\">\n",
       "  <thead>\n",
       "    <tr style=\"text-align: right;\">\n",
       "      <th></th>\n",
       "      <th>head</th>\n",
       "      <th>relation</th>\n",
       "      <th>tail</th>\n",
       "    </tr>\n",
       "  </thead>\n",
       "  <tbody>\n",
       "    <tr>\n",
       "      <th>6505730</th>\n",
       "      <td>R-HSA-114608</td>\n",
       "      <td>PATHWAY_GENE</td>\n",
       "      <td>A1BG</td>\n",
       "    </tr>\n",
       "    <tr>\n",
       "      <th>6505731</th>\n",
       "      <td>R-HSA-6798695</td>\n",
       "      <td>PATHWAY_GENE</td>\n",
       "      <td>A1BG</td>\n",
       "    </tr>\n",
       "    <tr>\n",
       "      <th>6505732</th>\n",
       "      <td>R-HSA-156582</td>\n",
       "      <td>PATHWAY_GENE</td>\n",
       "      <td>NAT2</td>\n",
       "    </tr>\n",
       "    <tr>\n",
       "      <th>6505733</th>\n",
       "      <td>R-HSA-74217</td>\n",
       "      <td>PATHWAY_GENE</td>\n",
       "      <td>ADA</td>\n",
       "    </tr>\n",
       "    <tr>\n",
       "      <th>6505734</th>\n",
       "      <td>R-HSA-381426</td>\n",
       "      <td>PATHWAY_GENE</td>\n",
       "      <td>CDH2</td>\n",
       "    </tr>\n",
       "  </tbody>\n",
       "</table>\n",
       "</div>"
      ],
      "text/plain": [
       "                  head      relation  tail\n",
       "6505730   R-HSA-114608  PATHWAY_GENE  A1BG\n",
       "6505731  R-HSA-6798695  PATHWAY_GENE  A1BG\n",
       "6505732   R-HSA-156582  PATHWAY_GENE  NAT2\n",
       "6505733    R-HSA-74217  PATHWAY_GENE   ADA\n",
       "6505734   R-HSA-381426  PATHWAY_GENE  CDH2"
      ]
     },
     "execution_count": 161,
     "metadata": {},
     "output_type": "execute_result"
    }
   ],
   "source": [
    "primekg_pagi['relation'] = 'PATHWAY_GENE'\n",
    "# 更改列的顺序\n",
    "primekg_pagi = primekg_pagi[['head', 'relation', 'tail']]\n",
    "primekg_pagi.head()"
   ]
  },
  {
   "cell_type": "code",
   "execution_count": 162,
   "metadata": {},
   "outputs": [
    {
     "data": {
      "text/plain": [
       "(5499997, 3)"
      ]
     },
     "execution_count": 162,
     "metadata": {},
     "output_type": "execute_result"
    }
   ],
   "source": [
    "biokg = pd.concat([biokg, primekg_pagi], axis=0)\n",
    "# 重置索引\n",
    "biokg.reset_index(drop=True, inplace=True)\n",
    "biokg.shape"
   ]
  },
  {
   "attachments": {},
   "cell_type": "markdown",
   "metadata": {},
   "source": [
    "### disease_protein: disease_gene"
   ]
  },
  {
   "cell_type": "code",
   "execution_count": 163,
   "metadata": {},
   "outputs": [
    {
     "data": {
      "text/html": [
       "<div>\n",
       "<style scoped>\n",
       "    .dataframe tbody tr th:only-of-type {\n",
       "        vertical-align: middle;\n",
       "    }\n",
       "\n",
       "    .dataframe tbody tr th {\n",
       "        vertical-align: top;\n",
       "    }\n",
       "\n",
       "    .dataframe thead th {\n",
       "        text-align: right;\n",
       "    }\n",
       "</style>\n",
       "<table border=\"1\" class=\"dataframe\">\n",
       "  <thead>\n",
       "    <tr style=\"text-align: right;\">\n",
       "      <th></th>\n",
       "      <th>x_id</th>\n",
       "      <th>y_name</th>\n",
       "    </tr>\n",
       "  </thead>\n",
       "  <tbody>\n",
       "    <tr>\n",
       "      <th>5950600</th>\n",
       "      <td>11401</td>\n",
       "      <td>A2M</td>\n",
       "    </tr>\n",
       "    <tr>\n",
       "      <th>5950602</th>\n",
       "      <td>5942</td>\n",
       "      <td>A2M</td>\n",
       "    </tr>\n",
       "    <tr>\n",
       "      <th>5950603</th>\n",
       "      <td>8243</td>\n",
       "      <td>A2M</td>\n",
       "    </tr>\n",
       "    <tr>\n",
       "      <th>5950605</th>\n",
       "      <td>11401</td>\n",
       "      <td>ACHE</td>\n",
       "    </tr>\n",
       "    <tr>\n",
       "      <th>5950607</th>\n",
       "      <td>5942</td>\n",
       "      <td>ACHE</td>\n",
       "    </tr>\n",
       "  </tbody>\n",
       "</table>\n",
       "</div>"
      ],
      "text/plain": [
       "          x_id y_name\n",
       "5950600  11401    A2M\n",
       "5950602   5942    A2M\n",
       "5950603   8243    A2M\n",
       "5950605  11401   ACHE\n",
       "5950607   5942   ACHE"
      ]
     },
     "execution_count": 163,
     "metadata": {},
     "output_type": "execute_result"
    }
   ],
   "source": [
    "primekg_digi = primekg[(primekg['relation'] == 'disease_protein') & (primekg['x_source'] == 'MONDO') & (primekg['x_type'] == 'disease')][['x_id','y_name']]\n",
    "# 转换 x_id 和 y_id 的数据类型\n",
    "primekg_digi['x_id'] = primekg_digi['x_id'].astype('int64')\n",
    "primekg_digi.head()"
   ]
  },
  {
   "cell_type": "code",
   "execution_count": 164,
   "metadata": {},
   "outputs": [
    {
     "data": {
      "text/html": [
       "<div>\n",
       "<style scoped>\n",
       "    .dataframe tbody tr th:only-of-type {\n",
       "        vertical-align: middle;\n",
       "    }\n",
       "\n",
       "    .dataframe tbody tr th {\n",
       "        vertical-align: top;\n",
       "    }\n",
       "\n",
       "    .dataframe thead th {\n",
       "        text-align: right;\n",
       "    }\n",
       "</style>\n",
       "<table border=\"1\" class=\"dataframe\">\n",
       "  <thead>\n",
       "    <tr style=\"text-align: right;\">\n",
       "      <th></th>\n",
       "      <th>y_name</th>\n",
       "      <th>x_id</th>\n",
       "    </tr>\n",
       "  </thead>\n",
       "  <tbody>\n",
       "    <tr>\n",
       "      <th>0</th>\n",
       "      <td>A2M</td>\n",
       "      <td>C536599</td>\n",
       "    </tr>\n",
       "    <tr>\n",
       "      <th>1</th>\n",
       "      <td>A2M</td>\n",
       "      <td>D012202</td>\n",
       "    </tr>\n",
       "    <tr>\n",
       "      <th>2</th>\n",
       "      <td>A2M</td>\n",
       "      <td>D020774</td>\n",
       "    </tr>\n",
       "    <tr>\n",
       "      <th>3</th>\n",
       "      <td>ACHE</td>\n",
       "      <td>C536599</td>\n",
       "    </tr>\n",
       "    <tr>\n",
       "      <th>4</th>\n",
       "      <td>ACHE</td>\n",
       "      <td>D012202</td>\n",
       "    </tr>\n",
       "  </tbody>\n",
       "</table>\n",
       "</div>"
      ],
      "text/plain": [
       "  y_name     x_id\n",
       "0    A2M  C536599\n",
       "1    A2M  D012202\n",
       "2    A2M  D020774\n",
       "3   ACHE  C536599\n",
       "4   ACHE  D012202"
      ]
     },
     "execution_count": 164,
     "metadata": {},
     "output_type": "execute_result"
    }
   ],
   "source": [
    "primekg_digi = pd.merge(primekg_digi, mesh_mondo, left_on='x_id', right_on='mondo_id', how='left')\n",
    "# 删除 x_id 和 mondo_id 列\n",
    "primekg_digi.drop(['x_id', 'mondo_id'], axis=1, inplace=True)\n",
    "# 将 mesh_id 重命名为 x_id\n",
    "primekg_digi = primekg_digi.rename(columns={\"mesh_id\": \"x_id\"})\n",
    "primekg_digi.head()"
   ]
  },
  {
   "cell_type": "code",
   "execution_count": 165,
   "metadata": {},
   "outputs": [
    {
     "data": {
      "text/plain": [
       "(64804, 2)"
      ]
     },
     "execution_count": 165,
     "metadata": {},
     "output_type": "execute_result"
    }
   ],
   "source": [
    "primekg_digi.shape"
   ]
  },
  {
   "cell_type": "code",
   "execution_count": 166,
   "metadata": {},
   "outputs": [
    {
     "data": {
      "text/plain": [
       "(31238, 2)"
      ]
     },
     "execution_count": 166,
     "metadata": {},
     "output_type": "execute_result"
    }
   ],
   "source": [
    "primekg_digi = primekg_digi.dropna()\n",
    "primekg_digi.shape"
   ]
  },
  {
   "cell_type": "code",
   "execution_count": 167,
   "metadata": {},
   "outputs": [
    {
     "data": {
      "text/html": [
       "<div>\n",
       "<style scoped>\n",
       "    .dataframe tbody tr th:only-of-type {\n",
       "        vertical-align: middle;\n",
       "    }\n",
       "\n",
       "    .dataframe tbody tr th {\n",
       "        vertical-align: top;\n",
       "    }\n",
       "\n",
       "    .dataframe thead th {\n",
       "        text-align: right;\n",
       "    }\n",
       "</style>\n",
       "<table border=\"1\" class=\"dataframe\">\n",
       "  <thead>\n",
       "    <tr style=\"text-align: right;\">\n",
       "      <th></th>\n",
       "      <th>head</th>\n",
       "      <th>relation</th>\n",
       "      <th>tail</th>\n",
       "    </tr>\n",
       "  </thead>\n",
       "  <tbody>\n",
       "    <tr>\n",
       "      <th>0</th>\n",
       "      <td>C536599</td>\n",
       "      <td>DISEASE_GENE</td>\n",
       "      <td>A2M</td>\n",
       "    </tr>\n",
       "    <tr>\n",
       "      <th>1</th>\n",
       "      <td>D012202</td>\n",
       "      <td>DISEASE_GENE</td>\n",
       "      <td>A2M</td>\n",
       "    </tr>\n",
       "    <tr>\n",
       "      <th>2</th>\n",
       "      <td>D020774</td>\n",
       "      <td>DISEASE_GENE</td>\n",
       "      <td>A2M</td>\n",
       "    </tr>\n",
       "    <tr>\n",
       "      <th>3</th>\n",
       "      <td>C536599</td>\n",
       "      <td>DISEASE_GENE</td>\n",
       "      <td>ACHE</td>\n",
       "    </tr>\n",
       "    <tr>\n",
       "      <th>4</th>\n",
       "      <td>D012202</td>\n",
       "      <td>DISEASE_GENE</td>\n",
       "      <td>ACHE</td>\n",
       "    </tr>\n",
       "  </tbody>\n",
       "</table>\n",
       "</div>"
      ],
      "text/plain": [
       "      head      relation  tail\n",
       "0  C536599  DISEASE_GENE   A2M\n",
       "1  D012202  DISEASE_GENE   A2M\n",
       "2  D020774  DISEASE_GENE   A2M\n",
       "3  C536599  DISEASE_GENE  ACHE\n",
       "4  D012202  DISEASE_GENE  ACHE"
      ]
     },
     "execution_count": 167,
     "metadata": {},
     "output_type": "execute_result"
    }
   ],
   "source": [
    "# 重命名\n",
    "primekg_digi = primekg_digi.rename(columns={\"x_id\": \"head\", \"y_name\": \"tail\"})\n",
    "primekg_digi['relation'] = 'DISEASE_GENE'\n",
    "# 更改列的顺序\n",
    "primekg_digi = primekg_digi[['head', 'relation', 'tail']]\n",
    "primekg_digi.head()"
   ]
  },
  {
   "cell_type": "code",
   "execution_count": 168,
   "metadata": {},
   "outputs": [
    {
     "data": {
      "text/plain": [
       "(5531235, 3)"
      ]
     },
     "execution_count": 168,
     "metadata": {},
     "output_type": "execute_result"
    }
   ],
   "source": [
    "biokg = pd.concat([biokg, primekg_digi], axis=0)\n",
    "# 重置索引\n",
    "biokg.reset_index(drop=True, inplace=True)\n",
    "biokg.shape"
   ]
  },
  {
   "cell_type": "code",
   "execution_count": 169,
   "metadata": {},
   "outputs": [],
   "source": [
    "biokg.to_csv('./data/biokg_primekg.csv')"
   ]
  }
 ],
 "metadata": {
  "kernelspec": {
   "display_name": "base",
   "language": "python",
   "name": "python3"
  },
  "language_info": {
   "codemirror_mode": {
    "name": "ipython",
    "version": 3
   },
   "file_extension": ".py",
   "mimetype": "text/x-python",
   "name": "python",
   "nbconvert_exporter": "python",
   "pygments_lexer": "ipython3",
   "version": "3.8.8"
  },
  "orig_nbformat": 4
 },
 "nbformat": 4,
 "nbformat_minor": 2
}
